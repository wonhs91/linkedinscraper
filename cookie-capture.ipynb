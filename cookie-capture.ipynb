{
 "cells": [
  {
   "cell_type": "code",
   "execution_count": 5,
   "metadata": {},
   "outputs": [
    {
     "name": "stdout",
     "output_type": "stream",
     "text": [
      "JSESSIONID ajax:2739526840689070762\n",
      "bscookie \"v=1&20241207145100e4090ffe-4c87-4a40-8479-8368670f5fa2AQE4BJ6XIMI1EM6gDD1IWGHiD4QO4Piy\"\n",
      "lang v=2&lang=en-us\n",
      "bcookie \"v=2&d34bdb4e-5d50-4878-81cf-eaadc260ed9f\"\n",
      "lidc \"b=TGST07:s=T:r=T:a=T:p=T:g=2992:u=1:x=1:i=1733583060:t=1733669460:v=2:sig=AQFDV58jkwZ6hXZ7Cb6IsvNmPIxV0aqg\"\n"
     ]
    }
   ],
   "source": [
    "import requests\n",
    "\n",
    "# Send a request to the website\n",
    "response = requests.get(\"http://www.linkedin.com\")\n",
    "\n",
    "# Access the cookies from the response\n",
    "cookies = response.cookies\n",
    "\n",
    "# Print the cookies\n",
    "for cookie in cookies:\n",
    "    print(cookie.name, cookie.value)"
   ]
  },
  {
   "cell_type": "code",
   "execution_count": 3,
   "metadata": {},
   "outputs": [
    {
     "data": {
      "text/plain": [
       "<RequestsCookieJar[]>"
      ]
     },
     "execution_count": 3,
     "metadata": {},
     "output_type": "execute_result"
    }
   ],
   "source": [
    "cookies"
   ]
  }
 ],
 "metadata": {
  "kernelspec": {
   "display_name": "linkedin-env",
   "language": "python",
   "name": "python3"
  },
  "language_info": {
   "codemirror_mode": {
    "name": "ipython",
    "version": 3
   },
   "file_extension": ".py",
   "mimetype": "text/x-python",
   "name": "python",
   "nbconvert_exporter": "python",
   "pygments_lexer": "ipython3",
   "version": "3.13.1"
  }
 },
 "nbformat": 4,
 "nbformat_minor": 2
}
